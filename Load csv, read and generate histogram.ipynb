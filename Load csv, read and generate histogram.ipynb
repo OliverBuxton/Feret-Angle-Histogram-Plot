{
 "cells": [
  {
   "cell_type": "code",
   "execution_count": 57,
   "metadata": {},
   "outputs": [
    {
     "name": "stdout",
     "output_type": "stream",
     "text": [
      "../ImageJ Processing\\ND Section\\Results_10x_BF_2.csv [[ 1.    48.145]\n",
      " [ 2.    22.38 ]]\n",
      "../ImageJ Processing\\ND Section\\Results_20x_BF_2.csv [[  1.     19.983]\n",
      " [  2.    158.199]]\n",
      "../ImageJ Processing\\ND Section\\Results_50x_BF_2.csv [[  1.    116.565]\n",
      " [  2.    131.838]]\n",
      "../ImageJ Processing\\ND Section\\Results_5x_BF.csv [[  1.    159.044]\n",
      " [  2.    176.82 ]]\n",
      "../ImageJ Processing\\ND Section\\Results_5x_BF_2.csv [[  1.    170.538]\n",
      " [  2.      6.009]]\n",
      "../ImageJ Processing\\RD Section\\Results_RD_10x_BF.csv [[  1.     12.529]\n",
      " [  2.    105.495]]\n",
      "../ImageJ Processing\\RD Section\\Results_RD_20x_BF.csv [[  1.    149.421]\n",
      " [  2.    135.924]]\n",
      "../ImageJ Processing\\RD Section\\Results_RD_50x_BF.csv [[  1.    109.437]\n",
      " [  2.     48.621]]\n",
      "../ImageJ Processing\\RD Section\\Results_RD_5x_BF.csv [[  1.     68.962]\n",
      " [  2.    109.29 ]]\n",
      "../ImageJ Processing\\TD Section\\Results_10x_BF.csv [[ 1.    69.864]\n",
      " [ 2.    64.654]]\n",
      "../ImageJ Processing\\TD Section\\Results_20x_BF.csv [[  1.     71.723]\n",
      " [  2.    127.093]]\n",
      "../ImageJ Processing\\TD Section\\Results_50x_BF.csv [[  1.    106.781]\n",
      " [  2.    141.789]]\n",
      "../ImageJ Processing\\TD Section\\Results_5x_BF.csv [[  1.    158.199]\n",
      " [  2.     66.801]]\n"
     ]
    }
   ],
   "source": [
    "import numpy as np\n",
    "import matplotlib.pyplot as plt\n",
    "%matplotlib inline\n",
    "import glob, os\n",
    "\n",
    "filenames = glob.glob('../ImageJ Processing/**/*.csv', recursive=True)\n",
    "#print(filenames) # check what files are loaded\n",
    "\n",
    "for file in filenames:\n",
    "    Feret_angs = np.loadtxt(fname=file, delimiter=',', skiprows=1, usecols=(0, 10))\n",
    "    print(file, Feret_angs[0:2, :]) # check results are loaded"
   ]
  },
  {
   "cell_type": "code",
   "execution_count": null,
   "metadata": {},
   "outputs": [],
   "source": [
    "Feret_ang = numpy.loadtxt(fname='../ImageJ Processing/*.csv', delimiter=',')\n",
    "\n",
    "np.histogram(a, bins=90)"
   ]
  },
  {
   "cell_type": "code",
   "execution_count": null,
   "metadata": {},
   "outputs": [],
   "source": []
  }
 ],
 "metadata": {
  "kernelspec": {
   "display_name": "Python 3",
   "language": "python",
   "name": "python3"
  },
  "language_info": {
   "codemirror_mode": {
    "name": "ipython",
    "version": 3
   },
   "file_extension": ".py",
   "mimetype": "text/x-python",
   "name": "python",
   "nbconvert_exporter": "python",
   "pygments_lexer": "ipython3",
   "version": "3.6.5"
  }
 },
 "nbformat": 4,
 "nbformat_minor": 2
}
