{
 "cells": [
  {
   "cell_type": "code",
   "execution_count": 70,
   "metadata": {},
   "outputs": [
    {
     "data": {
      "image/png": "[encoded data removed]",
      "text/plain": [
       "<Figure size 432x288 with 1 Axes>"
      ]
     },
     "metadata": {},
     "output_type": "display_data"
    }
   ],
   "source": [
    "import numpy as np\n",
    "import matplotlib.pyplot as plt\n",
    "%matplotlib inline\n",
    "import glob, os\n",
    "\n",
    "filenames = glob.glob('../ImageJ Processing/**/*.csv', recursive=True)\n",
    "filenames = filenames[0:1]\n",
    "#print(filenames) # check what files are loaded\n",
    "\n",
    "for file in filenames:\n",
    "    Feret_angs = np.loadtxt(fname=file, delimiter=',', skiprows=1, usecols=10)\n",
    "    #print(file, Feret_angs[:, :]) # check results are loaded\n",
    "    #Hist_Fangs = np.histogram(Feret_angs, bins=90)\n",
    "    plt.hist(Feret_angs, bins=90)\n",
    "    plt.xlabel('Feret Angle')\n",
    "    plt.ylabel('Frequeny')\n",
    "    plt.title('Feret Angle Histogram')"
   ]
  },
  {
   "cell_type": "code",
   "execution_count": null,
   "metadata": {},
   "outputs": [],
   "source": []
  },
  {
   "cell_type": "code",
   "execution_count": null,
   "metadata": {},
   "outputs": [],
   "source": []
  }
 ],
 "metadata": {
  "kernelspec": {
   "display_name": "Python 3",
   "language": "python",
   "name": "python3"
  },
  "language_info": {
   "codemirror_mode": {
    "name": "ipython",
    "version": 3
   },
   "file_extension": ".py",
   "mimetype": "text/x-python",
   "name": "python",
   "nbconvert_exporter": "python",
   "pygments_lexer": "ipython3",
   "version": "3.6.5"
  }
 },
 "nbformat": 4,
 "nbformat_minor": 2
}
